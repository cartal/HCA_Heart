{
 "cells": [
  {
   "cell_type": "markdown",
   "metadata": {},
   "source": [
    "### Convert matrices to h5ad files"
   ]
  },
  {
   "cell_type": "code",
   "execution_count": 1,
   "metadata": {},
   "outputs": [
    {
     "name": "stderr",
     "output_type": "stream",
     "text": [
      "/opt/conda/lib/python3.7/site-packages/dask/config.py:161: YAMLLoadWarning: calling yaml.load() without Loader=... is deprecated, as the default Loader is unsafe. Please read https://msg.pyyaml.org/load for full details.\n",
      "  data = yaml.load(f.read()) or {}\n"
     ]
    }
   ],
   "source": [
    "import anndata\n",
    "import numpy as np\n",
    "import pandas as pd\n",
    "import scanpy as sc"
   ]
  },
  {
   "cell_type": "markdown",
   "metadata": {},
   "source": [
    "### Read samples"
   ]
  },
  {
   "cell_type": "code",
   "execution_count": 2,
   "metadata": {},
   "outputs": [
    {
     "data": {
      "text/html": [
       "<div>\n",
       "<style scoped>\n",
       "    .dataframe tbody tr th:only-of-type {\n",
       "        vertical-align: middle;\n",
       "    }\n",
       "\n",
       "    .dataframe tbody tr th {\n",
       "        vertical-align: top;\n",
       "    }\n",
       "\n",
       "    .dataframe thead th {\n",
       "        text-align: right;\n",
       "    }\n",
       "</style>\n",
       "<table border=\"1\" class=\"dataframe\">\n",
       "  <thead>\n",
       "    <tr style=\"text-align: right;\">\n",
       "      <th></th>\n",
       "      <th>source</th>\n",
       "      <th>donor</th>\n",
       "      <th>region</th>\n",
       "      <th>gender</th>\n",
       "      <th>age_group</th>\n",
       "      <th>type</th>\n",
       "      <th>NRP</th>\n",
       "      <th>version</th>\n",
       "    </tr>\n",
       "    <tr>\n",
       "      <th>Sanger ID</th>\n",
       "      <th></th>\n",
       "      <th></th>\n",
       "      <th></th>\n",
       "      <th></th>\n",
       "      <th></th>\n",
       "      <th></th>\n",
       "      <th></th>\n",
       "      <th></th>\n",
       "    </tr>\n",
       "  </thead>\n",
       "  <tbody>\n",
       "    <tr>\n",
       "      <th>HCAHeart7843999</th>\n",
       "      <td>CD45+</td>\n",
       "      <td>D6</td>\n",
       "      <td>LV</td>\n",
       "      <td>Male</td>\n",
       "      <td>65-70</td>\n",
       "      <td>DCD</td>\n",
       "      <td>Yes</td>\n",
       "      <td>V2</td>\n",
       "    </tr>\n",
       "    <tr>\n",
       "      <th>HCAHeart7844000</th>\n",
       "      <td>CD45+</td>\n",
       "      <td>D6</td>\n",
       "      <td>RV</td>\n",
       "      <td>Male</td>\n",
       "      <td>65-70</td>\n",
       "      <td>DCD</td>\n",
       "      <td>Yes</td>\n",
       "      <td>V2</td>\n",
       "    </tr>\n",
       "    <tr>\n",
       "      <th>HCAHeart7844001</th>\n",
       "      <td>CD45+</td>\n",
       "      <td>D6</td>\n",
       "      <td>LA</td>\n",
       "      <td>Male</td>\n",
       "      <td>65-70</td>\n",
       "      <td>DCD</td>\n",
       "      <td>Yes</td>\n",
       "      <td>V2</td>\n",
       "    </tr>\n",
       "    <tr>\n",
       "      <th>HCAHeart7844002</th>\n",
       "      <td>CD45+</td>\n",
       "      <td>D6</td>\n",
       "      <td>RA</td>\n",
       "      <td>Male</td>\n",
       "      <td>65-70</td>\n",
       "      <td>DCD</td>\n",
       "      <td>Yes</td>\n",
       "      <td>V2</td>\n",
       "    </tr>\n",
       "    <tr>\n",
       "      <th>HCAHeart7844003</th>\n",
       "      <td>CD45+</td>\n",
       "      <td>D6</td>\n",
       "      <td>SP</td>\n",
       "      <td>Male</td>\n",
       "      <td>65-70</td>\n",
       "      <td>DCD</td>\n",
       "      <td>Yes</td>\n",
       "      <td>V2</td>\n",
       "    </tr>\n",
       "  </tbody>\n",
       "</table>\n",
       "</div>"
      ],
      "text/plain": [
       "                source donor region gender age_group type  NRP version\n",
       "Sanger ID                                                             \n",
       "HCAHeart7843999  CD45+    D6     LV   Male     65-70  DCD  Yes      V2\n",
       "HCAHeart7844000  CD45+    D6     RV   Male     65-70  DCD  Yes      V2\n",
       "HCAHeart7844001  CD45+    D6     LA   Male     65-70  DCD  Yes      V2\n",
       "HCAHeart7844002  CD45+    D6     RA   Male     65-70  DCD  Yes      V2\n",
       "HCAHeart7844003  CD45+    D6     SP   Male     65-70  DCD  Yes      V2"
      ]
     },
     "execution_count": 2,
     "metadata": {},
     "output_type": "execute_result"
    }
   ],
   "source": [
    "heart_metadata = pd.read_csv('/home/jovyan/experiments/0-generate_anndata_objects/HCA_heart_working_metadata_191112.csv', sep = ',', index_col = 0)\n",
    "heart_metadata.columns = ['source', 'donor', 'region', 'gender', 'age_group', 'type', 'NRP', 'version']\n",
    "present = pd.read_csv('/home/jovyan/experiments/0-generate_anndata_objects/cellranger/cd45/present.txt', index_col = 0)\n",
    "metadata = heart_metadata.loc[heart_metadata.index.isin(present.index)]\n",
    "metadata.head()"
   ]
  },
  {
   "cell_type": "markdown",
   "metadata": {},
   "source": [
    "### Create _AnnData_ objects"
   ]
  },
  {
   "cell_type": "code",
   "execution_count": 3,
   "metadata": {},
   "outputs": [
    {
     "name": "stderr",
     "output_type": "stream",
     "text": [
      "Trying to set attribute `.obs` of view, making a copy.\n",
      "Trying to set attribute `.obs` of view, making a copy.\n",
      "Trying to set attribute `.obs` of view, making a copy.\n",
      "Trying to set attribute `.obs` of view, making a copy.\n",
      "Trying to set attribute `.obs` of view, making a copy.\n",
      "Trying to set attribute `.obs` of view, making a copy.\n",
      "Trying to set attribute `.obs` of view, making a copy.\n",
      "Trying to set attribute `.obs` of view, making a copy.\n",
      "Trying to set attribute `.obs` of view, making a copy.\n",
      "Trying to set attribute `.obs` of view, making a copy.\n",
      "Trying to set attribute `.obs` of view, making a copy.\n",
      "Trying to set attribute `.obs` of view, making a copy.\n",
      "Trying to set attribute `.obs` of view, making a copy.\n",
      "Trying to set attribute `.obs` of view, making a copy.\n",
      "Trying to set attribute `.obs` of view, making a copy.\n",
      "Trying to set attribute `.obs` of view, making a copy.\n",
      "Trying to set attribute `.obs` of view, making a copy.\n",
      "Trying to set attribute `.obs` of view, making a copy.\n",
      "Trying to set attribute `.obs` of view, making a copy.\n"
     ]
    },
    {
     "data": {
      "text/plain": [
       "(212222, 33538)"
      ]
     },
     "execution_count": 3,
     "metadata": {},
     "output_type": "execute_result"
    }
   ],
   "source": [
    "path = '/home/jovyan/experiments/0-generate_anndata_objects/cellranger/cd45/'\n",
    "filenames = metadata.index\n",
    "adatas = [sc.read_10x_mtx(path + filename) for filename in filenames]\n",
    "for i in range(len(adatas)):\n",
    "    adatas[i].obs['sample'] = metadata.index[i]\n",
    "    for col in metadata.columns:\n",
    "        adatas[i].obs[col] = metadata[col][i]\n",
    "adata_1 = adatas[0].concatenate(adatas[1:], batch_categories = metadata.index)\n",
    "adata_1.shape"
   ]
  },
  {
   "cell_type": "code",
   "execution_count": 4,
   "metadata": {},
   "outputs": [
    {
     "name": "stderr",
     "output_type": "stream",
     "text": [
      "... storing 'NRP' as categorical\n",
      "... storing 'age_group' as categorical\n",
      "... storing 'donor' as categorical\n",
      "... storing 'gender' as categorical\n",
      "... storing 'region' as categorical\n",
      "... storing 'sample' as categorical\n",
      "... storing 'source' as categorical\n",
      "... storing 'type' as categorical\n",
      "... storing 'version' as categorical\n",
      "... storing 'feature_types' as categorical\n"
     ]
    }
   ],
   "source": [
    "adata_1.write('/home/jovyan/experiments/0-generate_anndata_objects/sanger_heart_CD45_CellRanger_RAW_ctl191205.h5ad')"
   ]
  },
  {
   "cell_type": "code",
   "execution_count": 5,
   "metadata": {},
   "outputs": [
    {
     "data": {
      "text/plain": [
       "AnnData object with n_obs × n_vars = 212222 × 33538 \n",
       "    obs: 'NRP', 'age_group', 'batch', 'donor', 'gender', 'region', 'sample', 'source', 'type', 'version'\n",
       "    var: 'gene_ids', 'feature_types'"
      ]
     },
     "execution_count": 5,
     "metadata": {},
     "output_type": "execute_result"
    }
   ],
   "source": [
    "adata_1"
   ]
  },
  {
   "cell_type": "code",
   "execution_count": null,
   "metadata": {},
   "outputs": [],
   "source": []
  }
 ],
 "metadata": {
  "kernelspec": {
   "display_name": "Python 3",
   "language": "python",
   "name": "python3"
  },
  "language_info": {
   "codemirror_mode": {
    "name": "ipython",
    "version": 3
   },
   "file_extension": ".py",
   "mimetype": "text/x-python",
   "name": "python",
   "nbconvert_exporter": "python",
   "pygments_lexer": "ipython3",
   "version": "3.7.3"
  }
 },
 "nbformat": 4,
 "nbformat_minor": 2
}
