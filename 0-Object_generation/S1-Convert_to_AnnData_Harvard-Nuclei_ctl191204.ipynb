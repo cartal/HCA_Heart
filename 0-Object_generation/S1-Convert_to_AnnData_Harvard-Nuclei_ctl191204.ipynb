{
 "cells": [
  {
   "cell_type": "markdown",
   "metadata": {},
   "source": [
    "### Convert matrices to h5ad files"
   ]
  },
  {
   "cell_type": "code",
   "execution_count": 1,
   "metadata": {},
   "outputs": [
    {
     "name": "stderr",
     "output_type": "stream",
     "text": [
      "/opt/conda/lib/python3.7/site-packages/dask/config.py:161: YAMLLoadWarning: calling yaml.load() without Loader=... is deprecated, as the default Loader is unsafe. Please read https://msg.pyyaml.org/load for full details.\n",
      "  data = yaml.load(f.read()) or {}\n"
     ]
    }
   ],
   "source": [
    "import anndata\n",
    "import numpy as np\n",
    "import pandas as pd\n",
    "import scanpy as sc"
   ]
  },
  {
   "cell_type": "markdown",
   "metadata": {},
   "source": [
    "### Read samples"
   ]
  },
  {
   "cell_type": "code",
   "execution_count": 4,
   "metadata": {},
   "outputs": [
    {
     "data": {
      "text/html": [
       "<div>\n",
       "<style scoped>\n",
       "    .dataframe tbody tr th:only-of-type {\n",
       "        vertical-align: middle;\n",
       "    }\n",
       "\n",
       "    .dataframe tbody tr th {\n",
       "        vertical-align: top;\n",
       "    }\n",
       "\n",
       "    .dataframe thead th {\n",
       "        text-align: right;\n",
       "    }\n",
       "</style>\n",
       "<table border=\"1\" class=\"dataframe\">\n",
       "  <thead>\n",
       "    <tr style=\"text-align: right;\">\n",
       "      <th></th>\n",
       "      <th>source</th>\n",
       "      <th>donor</th>\n",
       "      <th>region</th>\n",
       "      <th>gender</th>\n",
       "      <th>age_group</th>\n",
       "      <th>type</th>\n",
       "      <th>NRP</th>\n",
       "      <th>version</th>\n",
       "    </tr>\n",
       "    <tr>\n",
       "      <th>Sample ID</th>\n",
       "      <th></th>\n",
       "      <th></th>\n",
       "      <th></th>\n",
       "      <th></th>\n",
       "      <th></th>\n",
       "      <th></th>\n",
       "      <th></th>\n",
       "      <th></th>\n",
       "    </tr>\n",
       "  </thead>\n",
       "  <tbody>\n",
       "    <tr>\n",
       "      <th>H0015_apex</th>\n",
       "      <td>Nuclei</td>\n",
       "      <td>H5</td>\n",
       "      <td>AX</td>\n",
       "      <td>Female</td>\n",
       "      <td>50-55</td>\n",
       "      <td>DBD</td>\n",
       "      <td>No</td>\n",
       "      <td>V3</td>\n",
       "    </tr>\n",
       "    <tr>\n",
       "      <th>H0015_LA</th>\n",
       "      <td>Nuclei</td>\n",
       "      <td>H5</td>\n",
       "      <td>LA</td>\n",
       "      <td>Female</td>\n",
       "      <td>50-55</td>\n",
       "      <td>DBD</td>\n",
       "      <td>No</td>\n",
       "      <td>V3</td>\n",
       "    </tr>\n",
       "    <tr>\n",
       "      <th>H0015_LV</th>\n",
       "      <td>Nuclei</td>\n",
       "      <td>H5</td>\n",
       "      <td>LV</td>\n",
       "      <td>Female</td>\n",
       "      <td>50-55</td>\n",
       "      <td>DBD</td>\n",
       "      <td>No</td>\n",
       "      <td>V3</td>\n",
       "    </tr>\n",
       "    <tr>\n",
       "      <th>H0015_RA</th>\n",
       "      <td>Nuclei</td>\n",
       "      <td>H5</td>\n",
       "      <td>RA</td>\n",
       "      <td>Female</td>\n",
       "      <td>50-55</td>\n",
       "      <td>DBD</td>\n",
       "      <td>No</td>\n",
       "      <td>V3</td>\n",
       "    </tr>\n",
       "    <tr>\n",
       "      <th>H0015_RV</th>\n",
       "      <td>Nuclei</td>\n",
       "      <td>H5</td>\n",
       "      <td>RV</td>\n",
       "      <td>Female</td>\n",
       "      <td>50-55</td>\n",
       "      <td>DBD</td>\n",
       "      <td>No</td>\n",
       "      <td>V3</td>\n",
       "    </tr>\n",
       "  </tbody>\n",
       "</table>\n",
       "</div>"
      ],
      "text/plain": [
       "            source donor region  gender age_group type NRP version\n",
       "Sample ID                                                         \n",
       "H0015_apex  Nuclei    H5     AX  Female     50-55  DBD  No      V3\n",
       "H0015_LA    Nuclei    H5     LA  Female     50-55  DBD  No      V3\n",
       "H0015_LV    Nuclei    H5     LV  Female     50-55  DBD  No      V3\n",
       "H0015_RA    Nuclei    H5     RA  Female     50-55  DBD  No      V3\n",
       "H0015_RV    Nuclei    H5     RV  Female     50-55  DBD  No      V3"
      ]
     },
     "execution_count": 4,
     "metadata": {},
     "output_type": "execute_result"
    }
   ],
   "source": [
    "heart_metadata = pd.read_csv('/home/jovyan/experiments/0-generate_anndata_objects/Harvard_heart_metadata_191012.csv', sep = ',', index_col = 0)\n",
    "heart_metadata.columns = ['source', 'donor', 'region', 'gender', 'age_group', 'type', 'NRP', 'version']\n",
    "present = pd.read_csv('/home/jovyan/experiments/0-generate_anndata_objects/cellbenderised/premrna/harvard/present.txt', index_col = 0)\n",
    "metadata = heart_metadata.loc[heart_metadata.index.isin(present.index)]\n",
    "metadata.head()"
   ]
  },
  {
   "cell_type": "markdown",
   "metadata": {},
   "source": [
    "### Create _AnnData_ objects"
   ]
  },
  {
   "cell_type": "code",
   "execution_count": 5,
   "metadata": {},
   "outputs": [
    {
     "name": "stderr",
     "output_type": "stream",
     "text": [
      "Variable names are not unique. To make them unique, call `.var_names_make_unique`.\n",
      "Variable names are not unique. To make them unique, call `.var_names_make_unique`.\n",
      "Variable names are not unique. To make them unique, call `.var_names_make_unique`.\n",
      "Variable names are not unique. To make them unique, call `.var_names_make_unique`.\n",
      "Variable names are not unique. To make them unique, call `.var_names_make_unique`.\n",
      "Variable names are not unique. To make them unique, call `.var_names_make_unique`.\n",
      "Variable names are not unique. To make them unique, call `.var_names_make_unique`.\n",
      "Variable names are not unique. To make them unique, call `.var_names_make_unique`.\n",
      "Variable names are not unique. To make them unique, call `.var_names_make_unique`.\n",
      "Variable names are not unique. To make them unique, call `.var_names_make_unique`.\n",
      "Variable names are not unique. To make them unique, call `.var_names_make_unique`.\n",
      "Variable names are not unique. To make them unique, call `.var_names_make_unique`.\n",
      "Variable names are not unique. To make them unique, call `.var_names_make_unique`.\n",
      "Variable names are not unique. To make them unique, call `.var_names_make_unique`.\n",
      "Variable names are not unique. To make them unique, call `.var_names_make_unique`.\n",
      "Variable names are not unique. To make them unique, call `.var_names_make_unique`.\n",
      "Variable names are not unique. To make them unique, call `.var_names_make_unique`.\n",
      "Variable names are not unique. To make them unique, call `.var_names_make_unique`.\n",
      "Variable names are not unique. To make them unique, call `.var_names_make_unique`.\n",
      "Variable names are not unique. To make them unique, call `.var_names_make_unique`.\n",
      "Variable names are not unique. To make them unique, call `.var_names_make_unique`.\n",
      "Variable names are not unique. To make them unique, call `.var_names_make_unique`.\n",
      "Variable names are not unique. To make them unique, call `.var_names_make_unique`.\n",
      "Variable names are not unique. To make them unique, call `.var_names_make_unique`.\n",
      "Variable names are not unique. To make them unique, call `.var_names_make_unique`.\n",
      "Variable names are not unique. To make them unique, call `.var_names_make_unique`.\n",
      "Variable names are not unique. To make them unique, call `.var_names_make_unique`.\n",
      "Variable names are not unique. To make them unique, call `.var_names_make_unique`.\n",
      "Variable names are not unique. To make them unique, call `.var_names_make_unique`.\n",
      "Variable names are not unique. To make them unique, call `.var_names_make_unique`.\n",
      "Variable names are not unique. To make them unique, call `.var_names_make_unique`.\n",
      "Variable names are not unique. To make them unique, call `.var_names_make_unique`.\n",
      "Variable names are not unique. To make them unique, call `.var_names_make_unique`.\n",
      "Variable names are not unique. To make them unique, call `.var_names_make_unique`.\n",
      "Variable names are not unique. To make them unique, call `.var_names_make_unique`.\n",
      "Variable names are not unique. To make them unique, call `.var_names_make_unique`.\n",
      "Making variable names unique for controlled concatenation.\n"
     ]
    },
    {
     "data": {
      "text/plain": [
       "(221865, 33538)"
      ]
     },
     "execution_count": 5,
     "metadata": {},
     "output_type": "execute_result"
    }
   ],
   "source": [
    "path = '/home/jovyan/experiments/0-generate_anndata_objects/cellbenderised/premrna/harvard/'\n",
    "filenames = metadata.index\n",
    "adatas = [sc.read_10x_h5(path + filename + '.cellbender_filtered.h5') for filename in filenames]\n",
    "for i in range(len(adatas)):\n",
    "    adatas[i].obs['sample'] = metadata.index[i]\n",
    "    for col in metadata.columns:\n",
    "        adatas[i].obs[col] = metadata[col][i]\n",
    "adata_1 = adatas[0].concatenate(adatas[1:], batch_categories = metadata.index)\n",
    "adata_1.shape"
   ]
  },
  {
   "cell_type": "code",
   "execution_count": 6,
   "metadata": {},
   "outputs": [
    {
     "name": "stderr",
     "output_type": "stream",
     "text": [
      "... storing 'NRP' as categorical\n",
      "... storing 'age_group' as categorical\n",
      "... storing 'donor' as categorical\n",
      "... storing 'gender' as categorical\n",
      "... storing 'region' as categorical\n",
      "... storing 'sample' as categorical\n",
      "... storing 'source' as categorical\n",
      "... storing 'type' as categorical\n",
      "... storing 'version' as categorical\n"
     ]
    }
   ],
   "source": [
    "adata_1.write('/home/jovyan/experiments/0-generate_anndata_objects/harvard_heart_NucSeq_CellBender_RAW_ctl191205.h5ad')"
   ]
  },
  {
   "cell_type": "code",
   "execution_count": 7,
   "metadata": {},
   "outputs": [
    {
     "data": {
      "text/plain": [
       "AnnData object with n_obs × n_vars = 221865 × 33538 \n",
       "    obs: 'NRP', 'age_group', 'batch', 'donor', 'gender', 'region', 'sample', 'source', 'type', 'version'\n",
       "    var: 'gene_ids'"
      ]
     },
     "execution_count": 7,
     "metadata": {},
     "output_type": "execute_result"
    }
   ],
   "source": [
    "adata_1"
   ]
  },
  {
   "cell_type": "code",
   "execution_count": null,
   "metadata": {},
   "outputs": [],
   "source": []
  }
 ],
 "metadata": {
  "kernelspec": {
   "display_name": "Python 3",
   "language": "python",
   "name": "python3"
  },
  "language_info": {
   "codemirror_mode": {
    "name": "ipython",
    "version": 3
   },
   "file_extension": ".py",
   "mimetype": "text/x-python",
   "name": "python",
   "nbconvert_exporter": "python",
   "pygments_lexer": "ipython3",
   "version": "3.7.3"
  }
 },
 "nbformat": 4,
 "nbformat_minor": 2
}
